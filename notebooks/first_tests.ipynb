{
 "cells": [
  {
   "cell_type": "code",
   "execution_count": 1,
   "id": "2b8f18b7",
   "metadata": {},
   "outputs": [],
   "source": [
    "import pandas as pd\n",
    "import numpy as np\n",
    "import lightgbm as lgb\n",
    "import optuna\n",
    "\n",
    "import matplotlib.pyplot as plt\n",
    "import seaborn as sns\n",
    "\n",
    "from functions import *\n",
    "\n",
    "from sklearn import svm, preprocessing\n",
    "from sklearn.linear_model import LogisticRegression\n",
    "from sklearn.tree import DecisionTreeClassifier\n",
    "from sklearn.ensemble import RandomForestClassifier\n",
    "from sklearn.model_selection import train_test_split, KFold, cross_val_score"
   ]
  },
  {
   "cell_type": "code",
   "execution_count": 2,
   "id": "5a4a4cd6",
   "metadata": {},
   "outputs": [],
   "source": [
    "df_train_LOX = pd.read_csv('../data/training_set_LOX.csv')\n",
    "df_train_ANT = pd.read_csv('../data/training_set_antioxidant.csv')\n",
    "df_test = pd.read_csv('../data/test_set.csv')\n",
    "\n",
    "#drop title column\n",
    "df_train_LOX = df_train_LOX.drop(columns = ['Title'], axis = 1)\n",
    "df_train_ANT = df_train_ANT.drop(columns = ['Title'], axis = 1)\n",
    "df_test = df_test.drop(columns = ['Title'], axis = 1)"
   ]
  },
  {
   "cell_type": "code",
   "execution_count": 3,
   "id": "4721a72d",
   "metadata": {},
   "outputs": [],
   "source": [
    "#replace NaN values in each file with mean of column\n",
    "\n",
    "mean_values_LOX = df_train_LOX.mean()\n",
    "mean_values_ANT = df_train_ANT.mean()\n",
    "\n",
    "df_train_LOX = df_train_LOX.fillna(mean_values_LOX)\n",
    "df_train_ANT = df_train_ANT.fillna(mean_values_ANT)\n",
    "\n",
    "#merge LOX and ANT arrays\n",
    "frames = [df_train_LOX, df_train_ANT]\n",
    "merged_train = pd.concat(frames)\n",
    "merged_train.shape\n",
    "\n",
    "train_set = merged_train"
   ]
  },
  {
   "cell_type": "code",
   "execution_count": 4,
   "id": "2c1fa0a7",
   "metadata": {},
   "outputs": [],
   "source": [
    "#normalization\n",
    "scaler = preprocessing.MinMaxScaler()\n",
    "\n",
    "cols = train_set.columns\n",
    "d = scaler.fit_transform(train_set)\n",
    "train_set = pd.DataFrame(d, columns=cols)\n",
    "\n",
    "cols = df_test.columns\n",
    "d = scaler.fit_transform(df_test)\n",
    "df_test = pd.DataFrame(d, columns=cols)"
   ]
  },
  {
   "cell_type": "code",
   "execution_count": 5,
   "id": "1052288a",
   "metadata": {},
   "outputs": [],
   "source": [
    "#form data for tests\n",
    "x = train_set.loc[:, train_set.columns != 'class']\n",
    "y = train_set.iloc[:,0]\n",
    "\n",
    "x_train, x_test, y_train, y_test = train_test_split(x, y, test_size=0.2, random_state=0)"
   ]
  },
  {
   "cell_type": "code",
   "execution_count": 6,
   "id": "aa1b9e6c",
   "metadata": {},
   "outputs": [
    {
     "name": "stdout",
     "output_type": "stream",
     "text": [
      "[0.93548387 0.93946731 0.94350282 0.93946731 0.94027441]\n"
     ]
    }
   ],
   "source": [
    "#Calculate logistic regression with KFold cross validation\n",
    "\n",
    "kfold = KFold(n_splits=5, random_state=0, shuffle=True)\n",
    "lr_model = LogisticRegression(solver='liblinear', max_iter = 500)\n",
    "results = cross_val_score(lr_model, x, y, cv=kfold)\n",
    "\n",
    "print(results)"
   ]
  },
  {
   "cell_type": "code",
   "execution_count": 7,
   "id": "44d06b29",
   "metadata": {},
   "outputs": [
    {
     "name": "stdout",
     "output_type": "stream",
     "text": [
      "[0.94435484 0.96125908 0.94511703 0.95157385 0.94027441]\n"
     ]
    }
   ],
   "source": [
    "#Create a svm Classifier\n",
    "svm_model = svm.SVC(random_state=1, probability=True)\n",
    "\n",
    "svm_model.fit(x_train, y_train)\n",
    "\n",
    "results = cross_val_score(svm_model, x, y, cv=kfold)\n",
    "\n",
    "print(results)"
   ]
  },
  {
   "cell_type": "code",
   "execution_count": 8,
   "id": "1536d4af",
   "metadata": {},
   "outputs": [
    {
     "data": {
      "text/plain": [
       "array([0.93064516, 0.90637611, 0.85875706, 0.84100081, 0.68926554])"
      ]
     },
     "execution_count": 8,
     "metadata": {},
     "output_type": "execute_result"
    }
   ],
   "source": [
    "#Decision Tree Classifier\n",
    "\n",
    "dtc_model = DecisionTreeClassifier(max_depth=10, random_state=0)\n",
    "dtc_model.fit(x,y)\n",
    "cross_val_score(dtc_model, x, y, cv=5)"
   ]
  },
  {
   "cell_type": "code",
   "execution_count": 9,
   "id": "0b87797d",
   "metadata": {},
   "outputs": [
    {
     "data": {
      "text/plain": [
       "array([0.925     , 0.93058918, 0.87409201, 0.86521388, 0.93866021])"
      ]
     },
     "execution_count": 9,
     "metadata": {},
     "output_type": "execute_result"
    }
   ],
   "source": [
    "#Random Forest Classifier\n",
    "\n",
    "rfc_model = RandomForestClassifier(max_depth=10, random_state=0)\n",
    "rfc_model.fit(x, y)\n",
    "cross_val_score(rfc_model, x, y, cv=5)"
   ]
  },
  {
   "cell_type": "code",
   "execution_count": 10,
   "id": "c2f8bfb0",
   "metadata": {},
   "outputs": [
    {
     "name": "stderr",
     "output_type": "stream",
     "text": [
      "\u001b[32m[I 2023-01-25 14:59:37,579]\u001b[0m A new study created in memory with name: no-name-ef35cde3-1fb7-4d7b-a3ce-5a941bc4b72a\u001b[0m\n"
     ]
    }
   ],
   "source": [
    "#Find best parameters for LGBMReggresor\n",
    "\n",
    "study = optuna.create_study(direction=\"maximize\")\n",
    "func = lambda trial: objective(trial, x.to_numpy(), y.to_numpy())\n",
    "optuna.logging.set_verbosity(optuna.logging.WARNING)\n",
    "study.optimize(func, n_trials=100)"
   ]
  },
  {
   "cell_type": "code",
   "execution_count": 11,
   "id": "1de63ccd",
   "metadata": {},
   "outputs": [
    {
     "name": "stdout",
     "output_type": "stream",
     "text": [
      "Number of finished trials: 100\n",
      "Best trial:\n",
      "  Value: 0.9967721110393802\n",
      "  Params: \n",
      "    lambda_l1: 7.338795302958588e-08\n",
      "    lambda_l2: 8.428409858049367e-05\n",
      "    num_leaves: 235\n",
      "    feature_fraction: 0.9298572477432173\n",
      "    bagging_fraction: 0.8963109588553573\n",
      "    bagging_freq: 7\n",
      "    min_child_samples: 78\n"
     ]
    }
   ],
   "source": [
    "print(\"Number of finished trials: {}\".format(len(study.trials)))\n",
    "print(\"Best trial:\")\n",
    "trial = study.best_trial\n",
    "\n",
    "print(\"  Value: {}\".format(trial.value))\n",
    "\n",
    "print(\"  Params: \")\n",
    "for key, value in trial.params.items():\n",
    "    print(\"    {}: {}\".format(key, value))"
   ]
  },
  {
   "cell_type": "code",
   "execution_count": 12,
   "id": "95f19a38",
   "metadata": {},
   "outputs": [
    {
     "name": "stdout",
     "output_type": "stream",
     "text": [
      "[LightGBM] [Warning] feature_fraction is set=0.9298572477432173, colsample_bytree=1.0 will be ignored. Current value: feature_fraction=0.9298572477432173\n",
      "[LightGBM] [Warning] lambda_l1 is set=7.338795302958588e-08, reg_alpha=0.0 will be ignored. Current value: lambda_l1=7.338795302958588e-08\n",
      "[LightGBM] [Warning] bagging_fraction is set=0.8963109588553573, subsample=1.0 will be ignored. Current value: bagging_fraction=0.8963109588553573\n",
      "[LightGBM] [Warning] lambda_l2 is set=8.428409858049367e-05, reg_lambda=0.0 will be ignored. Current value: lambda_l2=8.428409858049367e-05\n",
      "[LightGBM] [Warning] bagging_freq is set=7, subsample_freq=0 will be ignored. Current value: bagging_freq=7\n"
     ]
    },
    {
     "data": {
      "text/plain": [
       "LGBMRegressor(bagging_fraction=0.8963109588553573, bagging_freq=7,\n",
       "              feature_fraction=0.9298572477432173,\n",
       "              lambda_l1=7.338795302958588e-08, lambda_l2=8.428409858049367e-05,\n",
       "              min_child_samples=78, num_leaves=235)"
      ]
     },
     "execution_count": 12,
     "metadata": {},
     "output_type": "execute_result"
    }
   ],
   "source": [
    "lgb_model = lgb.LGBMRegressor(**study.best_params)\n",
    "lgb_model.fit(x_train.to_numpy(), y_train.to_numpy())"
   ]
  },
  {
   "cell_type": "code",
   "execution_count": 13,
   "id": "f30e3ebd",
   "metadata": {},
   "outputs": [
    {
     "name": "stdout",
     "output_type": "stream",
     "text": [
      "LightGBM results:\n",
      "Training accuracy 0.96271\n",
      "Testing accuracy 0.84182\n"
     ]
    }
   ],
   "source": [
    "print('LightGBM results:')\n",
    "print(f'Training accuracy {lgb_model.score(x_train,y_train):.5f}')\n",
    "print(f'Testing accuracy {lgb_model.score(x_test,y_test):.5f}')"
   ]
  },
  {
   "cell_type": "code",
   "execution_count": 15,
   "id": "c3b42066",
   "metadata": {},
   "outputs": [
    {
     "data": {
      "text/plain": [
       "array([0.58155325, 0.77926954, 0.69347654, 0.72190994, 0.80973831,\n",
       "       0.77881118, 0.42438262, 0.48910668, 0.42684031, 0.46955821,\n",
       "       0.49275965, 0.46296304, 0.56946469, 0.81952144, 0.83113863,\n",
       "       0.78816333, 0.54138454, 0.55593854, 0.63780771, 0.75789718,\n",
       "       0.75789718, 0.58444094, 0.67427794, 0.59967183])"
      ]
     },
     "execution_count": 15,
     "metadata": {},
     "output_type": "execute_result"
    }
   ],
   "source": [
    "lgb_model.predict(df_test)"
   ]
  },
  {
   "cell_type": "code",
   "execution_count": null,
   "id": "152b1d31",
   "metadata": {},
   "outputs": [],
   "source": []
  }
 ],
 "metadata": {
  "kernelspec": {
   "display_name": "base",
   "language": "python",
   "name": "python3"
  },
  "language_info": {
   "codemirror_mode": {
    "name": "ipython",
    "version": 3
   },
   "file_extension": ".py",
   "mimetype": "text/x-python",
   "name": "python",
   "nbconvert_exporter": "python",
   "pygments_lexer": "ipython3",
   "version": "3.9.13"
  },
  "vscode": {
   "interpreter": {
    "hash": "d997f875e43a0eadbed7c25aa6575c5c6bf4e09655b7ae816e13c2596481ac19"
   }
  }
 },
 "nbformat": 4,
 "nbformat_minor": 5
}
