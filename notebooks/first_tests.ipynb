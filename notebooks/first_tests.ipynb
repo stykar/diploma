{
 "cells": [
  {
   "cell_type": "code",
   "execution_count": 1,
   "id": "2b8f18b7",
   "metadata": {},
   "outputs": [],
   "source": [
    "import pandas as pd\n",
    "import numpy as np\n",
    "import lightgbm as lgb\n",
    "import optuna\n",
    "\n",
    "import matplotlib.pyplot as plt\n",
    "import seaborn as sns\n",
    "\n",
    "from diploma.utils.functions import objective\n",
    "\n",
    "from sklearn import svm, preprocessing\n",
    "from sklearn.linear_model import LogisticRegression\n",
    "from sklearn.tree import DecisionTreeClassifier\n",
    "from sklearn.ensemble import RandomForestClassifier\n",
    "from sklearn.model_selection import train_test_split, KFold, cross_val_score"
   ]
  },
  {
   "cell_type": "code",
   "execution_count": 2,
   "id": "5a4a4cd6",
   "metadata": {},
   "outputs": [],
   "source": [
    "df_train_LOX = pd.read_csv('../data/training_set_LOX.csv')\n",
    "df_train_ANT = pd.read_csv('../data/training_set_antioxidant.csv')\n",
    "df_test = pd.read_csv('../data/test_set.csv')\n",
    "\n",
    "#drop title column\n",
    "df_train_LOX = df_train_LOX.drop(columns = ['Title'], axis = 1)\n",
    "df_train_ANT = df_train_ANT.drop(columns = ['Title'], axis = 1)\n",
    "df_test = df_test.drop(columns = ['Title'], axis = 1)"
   ]
  },
  {
   "cell_type": "code",
   "execution_count": 3,
   "id": "4721a72d",
   "metadata": {},
   "outputs": [],
   "source": [
    "#replace NaN values in each file with mean of column\n",
    "\n",
    "mean_values_LOX = df_train_LOX.mean()\n",
    "mean_values_ANT = df_train_ANT.mean()\n",
    "\n",
    "df_train_LOX = df_train_LOX.fillna(mean_values_LOX)\n",
    "df_train_ANT = df_train_ANT.fillna(mean_values_ANT)\n",
    "\n",
    "#merge LOX and ANT arrays\n",
    "frames = [df_train_LOX, df_train_ANT]\n",
    "merged_train = pd.concat(frames)\n",
    "merged_train.shape\n",
    "\n",
    "train_set = merged_train"
   ]
  },
  {
   "cell_type": "code",
   "execution_count": 4,
   "id": "2c1fa0a7",
   "metadata": {},
   "outputs": [],
   "source": [
    "#normalization\n",
    "scaler = preprocessing.MinMaxScaler()\n",
    "\n",
    "cols = train_set.columns\n",
    "d = scaler.fit_transform(train_set)\n",
    "train_set = pd.DataFrame(d, columns=cols)\n",
    "\n",
    "cols = df_test.columns\n",
    "d = scaler.fit_transform(df_test)\n",
    "df_test = pd.DataFrame(d, columns=cols)"
   ]
  },
  {
   "cell_type": "code",
   "execution_count": 5,
   "id": "1052288a",
   "metadata": {},
   "outputs": [],
   "source": [
    "#form data for tests\n",
    "x = train_set.loc[:, train_set.columns != 'class']\n",
    "y = train_set.iloc[:,0]\n",
    "x_train, x_test, y_train, y_test = train_test_split(x, y, test_size=0.2, random_state=0)\n"
   ]
  },
  {
   "cell_type": "code",
   "execution_count": 6,
   "id": "aa1b9e6c",
   "metadata": {},
   "outputs": [
    {
     "name": "stdout",
     "output_type": "stream",
     "text": [
      "[0.93548387 0.93946731 0.94350282 0.93946731 0.94027441]\n"
     ]
    }
   ],
   "source": [
    "#Calculate logistic regression with KFold cross validation\n",
    "\n",
    "kfold = KFold(n_splits=5, random_state=0, shuffle=True)\n",
    "lr_model = LogisticRegression(solver='liblinear', max_iter = 500)\n",
    "results = cross_val_score(lr_model, x, y, cv=kfold)\n",
    "\n",
    "print(results)"
   ]
  },
  {
   "cell_type": "code",
   "execution_count": 7,
   "id": "44d06b29",
   "metadata": {},
   "outputs": [
    {
     "name": "stdout",
     "output_type": "stream",
     "text": [
      "[0.94435484 0.96125908 0.94511703 0.95157385 0.94027441]\n"
     ]
    }
   ],
   "source": [
    "#Create a svm Classifier\n",
    "svm_model = svm.SVC(random_state=1, probability=True)\n",
    "\n",
    "svm_model.fit(x_train, y_train)\n",
    "\n",
    "results = cross_val_score(svm_model, x, y, cv=kfold)\n",
    "\n",
    "print(results)"
   ]
  },
  {
   "cell_type": "code",
   "execution_count": 8,
   "id": "1536d4af",
   "metadata": {},
   "outputs": [
    {
     "data": {
      "text/plain": [
       "array([0.93064516, 0.90637611, 0.85875706, 0.84100081, 0.68926554])"
      ]
     },
     "execution_count": 8,
     "metadata": {},
     "output_type": "execute_result"
    }
   ],
   "source": [
    "#Decision Tree Classifier\n",
    "\n",
    "dtc_model = DecisionTreeClassifier(max_depth=10, random_state=0)\n",
    "dtc_model.fit(x,y)\n",
    "cross_val_score(dtc_model, x, y, cv=5)"
   ]
  },
  {
   "cell_type": "code",
   "execution_count": 9,
   "id": "0b87797d",
   "metadata": {},
   "outputs": [
    {
     "data": {
      "text/plain": [
       "array([0.925     , 0.93058918, 0.87409201, 0.86521388, 0.93866021])"
      ]
     },
     "execution_count": 9,
     "metadata": {},
     "output_type": "execute_result"
    }
   ],
   "source": [
    "#Random Forest Classifier\n",
    "\n",
    "rfc_model = RandomForestClassifier(max_depth=10, random_state=0)\n",
    "rfc_model.fit(x, y)\n",
    "cross_val_score(rfc_model, x, y, cv=5)"
   ]
  },
  {
   "cell_type": "code",
   "execution_count": 10,
   "id": "c2f8bfb0",
   "metadata": {},
   "outputs": [
    {
     "name": "stderr",
     "output_type": "stream",
     "text": [
      "\u001b[32m[I 2023-01-28 18:31:27,551]\u001b[0m A new study created in memory with name: no-name-2cc26ae1-cc69-4dcd-9485-877c0a394e46\u001b[0m\n"
     ]
    }
   ],
   "source": [
    "#Find best parameters for LGBMReggresor\n",
    "\n",
    "study = optuna.create_study(direction=\"maximize\")\n",
    "func = lambda trial: objective(trial, x.to_numpy(), y.to_numpy())\n",
    "optuna.logging.set_verbosity(optuna.logging.WARNING)\n",
    "study.optimize(func, n_trials=100)"
   ]
  },
  {
   "cell_type": "code",
   "execution_count": 11,
   "id": "1de63ccd",
   "metadata": {},
   "outputs": [
    {
     "name": "stdout",
     "output_type": "stream",
     "text": [
      "Number of finished trials: 100\n",
      "Best trial:\n",
      "  Value: 0.9980632666236281\n",
      "  Params: \n",
      "    lambda_l1: 0.045530746769831466\n",
      "    lambda_l2: 2.868067627657739e-07\n",
      "    num_leaves: 161\n",
      "    feature_fraction: 0.526764381967646\n",
      "    bagging_fraction: 0.8958129478410691\n",
      "    bagging_freq: 7\n",
      "    min_child_samples: 69\n"
     ]
    }
   ],
   "source": [
    "print(\"Number of finished trials: {}\".format(len(study.trials)))\n",
    "print(\"Best trial:\")\n",
    "trial = study.best_trial\n",
    "\n",
    "print(\"  Value: {}\".format(trial.value))\n",
    "\n",
    "print(\"  Params: \")\n",
    "for key, value in trial.params.items():\n",
    "    print(\"    {}: {}\".format(key, value))"
   ]
  },
  {
   "cell_type": "code",
   "execution_count": 12,
   "id": "95f19a38",
   "metadata": {},
   "outputs": [
    {
     "name": "stdout",
     "output_type": "stream",
     "text": [
      "[LightGBM] [Warning] feature_fraction is set=0.526764381967646, colsample_bytree=1.0 will be ignored. Current value: feature_fraction=0.526764381967646\n",
      "[LightGBM] [Warning] lambda_l1 is set=0.045530746769831466, reg_alpha=0.0 will be ignored. Current value: lambda_l1=0.045530746769831466\n",
      "[LightGBM] [Warning] bagging_fraction is set=0.8958129478410691, subsample=1.0 will be ignored. Current value: bagging_fraction=0.8958129478410691\n",
      "[LightGBM] [Warning] lambda_l2 is set=2.868067627657739e-07, reg_lambda=0.0 will be ignored. Current value: lambda_l2=2.868067627657739e-07\n",
      "[LightGBM] [Warning] bagging_freq is set=7, subsample_freq=0 will be ignored. Current value: bagging_freq=7\n"
     ]
    },
    {
     "data": {
      "text/plain": [
       "LGBMClassifier(bagging_fraction=0.8958129478410691, bagging_freq=7,\n",
       "               feature_fraction=0.526764381967646,\n",
       "               lambda_l1=0.045530746769831466, lambda_l2=2.868067627657739e-07,\n",
       "               min_child_samples=69, num_leaves=161)"
      ]
     },
     "execution_count": 12,
     "metadata": {},
     "output_type": "execute_result"
    }
   ],
   "source": [
    "lgb_model = lgb.LGBMClassifier(**study.best_params)\n",
    "lgb_model.fit(x_train.to_numpy(), y_train.to_numpy())"
   ]
  },
  {
   "cell_type": "code",
   "execution_count": 13,
   "id": "f30e3ebd",
   "metadata": {},
   "outputs": [
    {
     "name": "stdout",
     "output_type": "stream",
     "text": [
      "LightGBM results:\n",
      "Training accuracy 0.99939\n",
      "Testing accuracy 0.98629\n"
     ]
    }
   ],
   "source": [
    "print('LightGBM results:')\n",
    "print(f'Training accuracy {lgb_model.score(x_train,y_train):.5f}')\n",
    "print(f'Testing accuracy {lgb_model.score(x_test,y_test):.5f}')"
   ]
  },
  {
   "cell_type": "code",
   "execution_count": 14,
   "id": "c3b42066",
   "metadata": {},
   "outputs": [
    {
     "data": {
      "text/plain": [
       "array([[0.69966104, 0.30033896],\n",
       "       [0.19202901, 0.80797099],\n",
       "       [0.37383838, 0.62616162],\n",
       "       [0.31772846, 0.68227154],\n",
       "       [0.31466739, 0.68533261],\n",
       "       [0.26401325, 0.73598675],\n",
       "       [0.94223502, 0.05776498],\n",
       "       [0.98331878, 0.01668122],\n",
       "       [0.94026257, 0.05973743],\n",
       "       [0.91735828, 0.08264172],\n",
       "       [0.91974081, 0.08025919],\n",
       "       [0.95494277, 0.04505723],\n",
       "       [0.84481606, 0.15518394],\n",
       "       [0.47526339, 0.52473661],\n",
       "       [0.00514436, 0.99485564],\n",
       "       [0.01102637, 0.98897363],\n",
       "       [0.06959809, 0.93040191],\n",
       "       [0.1060991 , 0.8939009 ],\n",
       "       [0.02491722, 0.97508278],\n",
       "       [0.05293639, 0.94706361],\n",
       "       [0.05293639, 0.94706361],\n",
       "       [0.19332162, 0.80667838],\n",
       "       [0.16547339, 0.83452661],\n",
       "       [0.41597815, 0.58402185]])"
      ]
     },
     "execution_count": 14,
     "metadata": {},
     "output_type": "execute_result"
    }
   ],
   "source": [
    "lgb_model.predict_proba(df_test)"
   ]
  },
  {
   "cell_type": "code",
   "execution_count": 15,
   "id": "152b1d31",
   "metadata": {},
   "outputs": [
    {
     "name": "stdout",
     "output_type": "stream",
     "text": [
      "              precision    recall  f1-score   support\n",
      "\n",
      "     class 0       0.99      0.99      0.99      1088\n",
      "      class1       0.95      0.94      0.94       152\n",
      "\n",
      "    accuracy                           0.99      1240\n",
      "   macro avg       0.97      0.97      0.97      1240\n",
      "weighted avg       0.99      0.99      0.99      1240\n",
      "\n"
     ]
    }
   ],
   "source": [
    "from sklearn.metrics import classification_report\n",
    "\n",
    "y_test_temp = np.expand_dims(y_test.to_numpy(), axis=-1)\n",
    "\n",
    "print(classification_report(y_test_temp, lgb_model.predict(x_test), target_names=['class 0', 'class1']))"
   ]
  },
  {
   "cell_type": "code",
   "execution_count": 16,
   "id": "ceb9026e",
   "metadata": {},
   "outputs": [
    {
     "data": {
      "text/plain": [
       "(1240,)"
      ]
     },
     "execution_count": 16,
     "metadata": {},
     "output_type": "execute_result"
    }
   ],
   "source": [
    "lgb_model.predict(x_test).shape"
   ]
  },
  {
   "cell_type": "code",
   "execution_count": null,
   "id": "39d88fd8",
   "metadata": {},
   "outputs": [],
   "source": []
  }
 ],
 "metadata": {
  "kernelspec": {
   "display_name": "base",
   "language": "python",
   "name": "python3"
  },
  "language_info": {
   "codemirror_mode": {
    "name": "ipython",
    "version": 3
   },
   "file_extension": ".py",
   "mimetype": "text/x-python",
   "name": "python",
   "nbconvert_exporter": "python",
   "pygments_lexer": "ipython3",
   "version": "3.9.13 (main, Aug 25 2022, 23:51:50) [MSC v.1916 64 bit (AMD64)]"
  },
  "vscode": {
   "interpreter": {
    "hash": "d997f875e43a0eadbed7c25aa6575c5c6bf4e09655b7ae816e13c2596481ac19"
   }
  }
 },
 "nbformat": 4,
 "nbformat_minor": 5
}
