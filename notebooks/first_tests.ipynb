{
 "cells": [
  {
   "cell_type": "code",
   "execution_count": 100,
   "id": "2b8f18b7",
   "metadata": {},
   "outputs": [],
   "source": [
    "import pandas as pd\n",
    "import numpy as np\n",
    "import lightgbm as lgb\n",
    "import optuna\n",
    "\n",
    "import matplotlib.pyplot as plt\n",
    "import seaborn as sns\n",
    "\n",
    "from functions import *\n",
    "\n",
    "from sklearn import svm, preprocessing\n",
    "from sklearn.linear_model import LogisticRegression\n",
    "from sklearn.tree import DecisionTreeClassifier\n",
    "from sklearn.ensemble import RandomForestClassifier\n",
    "from sklearn.model_selection import train_test_split, KFold, cross_val_score"
   ]
  },
  {
   "cell_type": "code",
   "execution_count": 101,
   "id": "5a4a4cd6",
   "metadata": {},
   "outputs": [],
   "source": [
    "df_train_LOX = pd.read_csv('../data/training_set_LOX.csv')\n",
    "df_train_ANT = pd.read_csv('../data/training_set_antioxidant.csv')\n",
    "df_test = pd.read_csv('../data/test_set.csv')\n",
    "\n",
    "#drop title column\n",
    "df_train_LOX = df_train_LOX.drop(columns = ['Title'], axis = 1)\n",
    "df_train_ANT = df_train_ANT.drop(columns = ['Title'], axis = 1)\n",
    "df_test = df_test.drop(columns = ['Title'], axis = 1)\n",
    "\n"
   ]
  },
  {
   "cell_type": "code",
   "execution_count": 102,
   "id": "4721a72d",
   "metadata": {},
   "outputs": [],
   "source": [
    "#replace NaN values in each file with mean of column\n",
    "\n",
    "mean_values_LOX = df_train_LOX.mean()\n",
    "mean_values_ANT = df_train_ANT.mean()\n",
    "\n",
    "df_train_LOX = df_train_LOX.fillna(mean_values_LOX)\n",
    "df_train_ANT = df_train_ANT.fillna(mean_values_ANT)\n",
    "\n",
    "#merge LOX and ANT arrays\n",
    "frames = [df_train_LOX, df_train_ANT]\n",
    "merged_train = pd.concat(frames)\n",
    "merged_train.shape\n",
    "\n",
    "train_set = merged_train"
   ]
  },
  {
   "cell_type": "code",
   "execution_count": 103,
   "id": "2c1fa0a7",
   "metadata": {},
   "outputs": [],
   "source": [
    "#normalization\n",
    "scaler = preprocessing.MinMaxScaler()\n",
    "\n",
    "cols = train_set.columns\n",
    "d = scaler.fit_transform(train_set)\n",
    "train_set = pd.DataFrame(d, columns=cols)\n",
    "\n",
    "cols = df_test.columns\n",
    "d = scaler.fit_transform(df_test)\n",
    "df_test = pd.DataFrame(d, columns=cols)"
   ]
  },
  {
   "cell_type": "code",
   "execution_count": 104,
   "id": "1052288a",
   "metadata": {},
   "outputs": [],
   "source": [
    "#form data for tests\n",
    "x = train_set.loc[:, train_set.columns != 'class']\n",
    "y = train_set.iloc[:,0]\n",
    "\n",
    "x_train, x_test, y_train, y_test = train_test_split(x, y, test_size=0.2, random_state=0)"
   ]
  },
  {
   "cell_type": "code",
   "execution_count": 105,
   "id": "aa1b9e6c",
   "metadata": {},
   "outputs": [
    {
     "name": "stdout",
     "output_type": "stream",
     "text": [
      "[0.93548387 0.93946731 0.94350282 0.93946731 0.94027441]\n"
     ]
    }
   ],
   "source": [
    "#Calculate logistic regression with KFold cross validation\n",
    "\n",
    "kfold = KFold(n_splits=5, random_state=0, shuffle=True)\n",
    "lr_model = LogisticRegression(solver='liblinear', max_iter = 500)\n",
    "results = cross_val_score(lr_model, x, y, cv=kfold)\n",
    "\n",
    "print(results)"
   ]
  },
  {
   "cell_type": "code",
   "execution_count": 106,
   "id": "44d06b29",
   "metadata": {},
   "outputs": [
    {
     "name": "stdout",
     "output_type": "stream",
     "text": [
      "[0.94435484 0.96125908 0.94511703 0.95157385 0.94027441]\n"
     ]
    }
   ],
   "source": [
    "#Create a svm Classifier\n",
    "svm_model = svm.SVC(random_state=1, probability=True)\n",
    "\n",
    "svm_model.fit(x_train, y_train)\n",
    "\n",
    "results = cross_val_score(svm_model, x, y, cv=kfold)\n",
    "\n",
    "print(results)"
   ]
  },
  {
   "cell_type": "code",
   "execution_count": 107,
   "id": "1536d4af",
   "metadata": {},
   "outputs": [
    {
     "data": {
      "text/plain": [
       "array([0.93064516, 0.90637611, 0.85875706, 0.84100081, 0.68926554])"
      ]
     },
     "execution_count": 107,
     "metadata": {},
     "output_type": "execute_result"
    }
   ],
   "source": [
    "#Decision Tree Classifier\n",
    "\n",
    "dtc_model = DecisionTreeClassifier(max_depth=10, random_state=0)\n",
    "dtc_model.fit(x,y)\n",
    "cross_val_score(dtc_model, x, y, cv=5)"
   ]
  },
  {
   "cell_type": "code",
   "execution_count": 108,
   "id": "0b87797d",
   "metadata": {},
   "outputs": [
    {
     "data": {
      "text/plain": [
       "array([0.925     , 0.93058918, 0.87409201, 0.86521388, 0.93866021])"
      ]
     },
     "execution_count": 108,
     "metadata": {},
     "output_type": "execute_result"
    }
   ],
   "source": [
    "#Random Forest Classifier\n",
    "\n",
    "rfc_model = RandomForestClassifier(max_depth=10, random_state=0)\n",
    "rfc_model.fit(x, y)\n",
    "cross_val_score(rfc_model, x, y, cv=5)"
   ]
  },
  {
   "cell_type": "code",
   "execution_count": 109,
   "id": "c2f8bfb0",
   "metadata": {},
   "outputs": [],
   "source": [
    "#Find best parameters for LGBMClassifier\n",
    "\n",
    "study = optuna.create_study(direction=\"maximize\")\n",
    "func = lambda trial: objective(trial, x, y)\n",
    "optuna.logging.set_verbosity(optuna.logging.WARNING)\n",
    "study.optimize(objective, n_trials=100)"
   ]
  },
  {
   "cell_type": "code",
   "execution_count": 110,
   "id": "1de63ccd",
   "metadata": {},
   "outputs": [
    {
     "name": "stdout",
     "output_type": "stream",
     "text": [
      "Number of finished trials: 100\n",
      "Best trial:\n",
      "  Value: 0.986013986013986\n",
      "  Params: \n",
      "    lambda_l1: 0.0009483150331245361\n",
      "    lambda_l2: 1.6672637660060458e-05\n",
      "    num_leaves: 73\n",
      "    feature_fraction: 0.5507518146845714\n",
      "    bagging_fraction: 0.9897600927541909\n",
      "    bagging_freq: 6\n",
      "    min_child_samples: 64\n"
     ]
    }
   ],
   "source": [
    "print(\"Number of finished trials: {}\".format(len(study.trials)))\n",
    "print(\"Best trial:\")\n",
    "trial = study.best_trial\n",
    "\n",
    "print(\"  Value: {}\".format(trial.value))\n",
    "\n",
    "print(\"  Params: \")\n",
    "for key, value in trial.params.items():\n",
    "    print(\"    {}: {}\".format(key, value))"
   ]
  },
  {
   "cell_type": "code",
   "execution_count": 111,
   "id": "95f19a38",
   "metadata": {},
   "outputs": [
    {
     "name": "stdout",
     "output_type": "stream",
     "text": [
      "[LightGBM] [Warning] feature_fraction is set=0.5507518146845714, colsample_bytree=1.0 will be ignored. Current value: feature_fraction=0.5507518146845714\n",
      "[LightGBM] [Warning] lambda_l1 is set=0.0009483150331245361, reg_alpha=0.0 will be ignored. Current value: lambda_l1=0.0009483150331245361\n",
      "[LightGBM] [Warning] bagging_fraction is set=0.9897600927541909, subsample=1.0 will be ignored. Current value: bagging_fraction=0.9897600927541909\n",
      "[LightGBM] [Warning] lambda_l2 is set=1.6672637660060458e-05, reg_lambda=0.0 will be ignored. Current value: lambda_l2=1.6672637660060458e-05\n",
      "[LightGBM] [Warning] bagging_freq is set=6, subsample_freq=0 will be ignored. Current value: bagging_freq=6\n"
     ]
    },
    {
     "data": {
      "text/plain": [
       "LGBMClassifier(bagging_fraction=0.9897600927541909, bagging_freq=6,\n",
       "               feature_fraction=0.5507518146845714,\n",
       "               lambda_l1=0.0009483150331245361,\n",
       "               lambda_l2=1.6672637660060458e-05, min_child_samples=64,\n",
       "               num_leaves=73)"
      ]
     },
     "execution_count": 111,
     "metadata": {},
     "output_type": "execute_result"
    }
   ],
   "source": [
    "lgb_model = lgb.LGBMClassifier(**study.best_params)\n",
    "lgb_model.fit(x_train.to_numpy(), y_train.to_numpy())"
   ]
  },
  {
   "cell_type": "code",
   "execution_count": 112,
   "id": "f30e3ebd",
   "metadata": {},
   "outputs": [
    {
     "name": "stdout",
     "output_type": "stream",
     "text": [
      "LightGBM results:\n",
      "Training accuracy 0.99939\n",
      "Testing accuracy 0.98548\n"
     ]
    }
   ],
   "source": [
    "print('LightGBM results:')\n",
    "print(f'Training accuracy {lgb_model.score(x_train,y_train):.5f}')\n",
    "print(f'Testing accuracy {lgb_model.score(x_test,y_test):.5f}')"
   ]
  },
  {
   "cell_type": "code",
   "execution_count": 113,
   "id": "c3b42066",
   "metadata": {},
   "outputs": [
    {
     "data": {
      "text/plain": [
       "array([[0.12760242, 0.87239758],\n",
       "       [0.06383526, 0.93616474],\n",
       "       [0.1222979 , 0.8777021 ],\n",
       "       [0.05794565, 0.94205435],\n",
       "       [0.05674434, 0.94325566],\n",
       "       [0.05579048, 0.94420952],\n",
       "       [0.95776514, 0.04223486],\n",
       "       [0.98073445, 0.01926555],\n",
       "       [0.96397183, 0.03602817],\n",
       "       [0.93904572, 0.06095428],\n",
       "       [0.92003641, 0.07996359],\n",
       "       [0.95406049, 0.04593951],\n",
       "       [0.85094832, 0.14905168],\n",
       "       [0.11231279, 0.88768721],\n",
       "       [0.00244275, 0.99755725],\n",
       "       [0.13678335, 0.86321665],\n",
       "       [0.09063971, 0.90936029],\n",
       "       [0.07210713, 0.92789287],\n",
       "       [0.00325865, 0.99674135],\n",
       "       [0.0243449 , 0.9756551 ],\n",
       "       [0.0243449 , 0.9756551 ],\n",
       "       [0.18758513, 0.81241487],\n",
       "       [0.23958361, 0.76041639],\n",
       "       [0.3534125 , 0.6465875 ]])"
      ]
     },
     "execution_count": 113,
     "metadata": {},
     "output_type": "execute_result"
    }
   ],
   "source": [
    "lgb_model.predict_proba(df_test)"
   ]
  },
  {
   "cell_type": "code",
   "execution_count": null,
   "id": "152b1d31",
   "metadata": {},
   "outputs": [],
   "source": []
  }
 ],
 "metadata": {
  "kernelspec": {
   "display_name": "base",
   "language": "python",
   "name": "python3"
  },
  "language_info": {
   "codemirror_mode": {
    "name": "ipython",
    "version": 3
   },
   "file_extension": ".py",
   "mimetype": "text/x-python",
   "name": "python",
   "nbconvert_exporter": "python",
   "pygments_lexer": "ipython3",
   "version": "3.9.13"
  },
  "vscode": {
   "interpreter": {
    "hash": "d997f875e43a0eadbed7c25aa6575c5c6bf4e09655b7ae816e13c2596481ac19"
   }
  }
 },
 "nbformat": 4,
 "nbformat_minor": 5
}
