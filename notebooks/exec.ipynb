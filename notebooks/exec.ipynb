{
 "cells": [
  {
   "cell_type": "code",
   "execution_count": 25,
   "id": "2b8f18b7",
   "metadata": {},
   "outputs": [],
   "source": [
    "import pandas as pd\n",
    "import numpy as np\n",
    "import lightgbm as lgb\n",
    "\n",
    "import matplotlib.pyplot as plt\n",
    "import seaborn as sns\n",
    "\n",
    "from sklearn import svm\n",
    "from sklearn.linear_model import LogisticRegression\n",
    "from sklearn.tree import DecisionTreeClassifier\n",
    "from sklearn.ensemble import RandomForestClassifier\n",
    "from sklearn.model_selection import train_test_split, KFold, cross_val_score"
   ]
  },
  {
   "cell_type": "code",
   "execution_count": 38,
   "id": "5a4a4cd6",
   "metadata": {},
   "outputs": [],
   "source": [
    "df = pd.ExcelFile('../data/LOX-COX_VS_DPPH-NRF_VS_TEST.xlsx')\n",
    "df_train_LOX = pd.read_excel(df, 'training_set_LOX')\n",
    "df_train_ANT = pd.read_excel(df, 'training_set_antioxidant')\n",
    "df_test = pd.read_excel(df, 'test_set')\n",
    "\n",
    "#drop title column\n",
    "df_train_LOX = df_train_LOX.drop(columns = ['Title'], axis = 1)\n",
    "df_train_ANT = df_train_ANT.drop(columns = ['Title'], axis = 1)\n",
    "df_test = df_test.drop(columns = ['Title'], axis = 1)"
   ]
  },
  {
   "cell_type": "code",
   "execution_count": 27,
   "id": "4721a72d",
   "metadata": {},
   "outputs": [],
   "source": [
    "#replace NaN values in each file with mean of column\n",
    "\n",
    "mean_values_LOX = df_train_LOX.mean()\n",
    "mean_values_ANT = df_train_ANT.mean()\n",
    "\n",
    "df_train_LOX = df_train_LOX.fillna(mean_values_LOX)\n",
    "df_train_ANT = df_train_ANT.fillna(mean_values_ANT)\n",
    "\n",
    "#merge LOX and ANT arrays\n",
    "frames = [df_train_LOX, df_train_ANT]\n",
    "merged_train = pd.concat(frames)\n",
    "merged_train.shape\n",
    "\n",
    "train_set = merged_train"
   ]
  },
  {
   "cell_type": "code",
   "execution_count": 28,
   "id": "2c1fa0a7",
   "metadata": {},
   "outputs": [],
   "source": [
    "# #join LOX and ANT to one matrix. Calculate correlation coefficient and drop columns\n",
    "# #with minimum threshold\n",
    "# corr_matrix = merged_train.corr() #correlation coefficient calculation\n",
    "# np.fill_diagonal(corr_matrix.values, 0) # set diagonal to 0\n",
    "# threshold = 0.9\n",
    "\n",
    "# ax = plt.axes()\n",
    "# sns.heatmap(corr_matrix, xticklabels=False, yticklabels=False)\n",
    "# ax.set_title('Correlation Coefficient heatmap')\n",
    "\n",
    "# corr_matrix = abs(corr_matrix) #absolute values of corr coef\n",
    "\n",
    "# corr_matrix = corr_matrix.replace(np.nan, 0) #replace nan with 0\n",
    "\n",
    "# corr_matrix.values[np.tril_indices(corr_matrix.shape[0], k=0)] = 0 #set values below diagonal to 0 so i dont drop both columns\n",
    "\n",
    "# drop_columns = corr_matrix.columns[corr_matrix.max() > threshold].tolist() #columns where corr coef > threshold\n",
    "# train_set = merged_train.drop(drop_columns, axis = 1) #drop above columns\n",
    "# print(\"Shape of train set after column drop\",train_set.shape)\n",
    "# plt.savefig('../results/heatmap', dpi=500)"
   ]
  },
  {
   "cell_type": "code",
   "execution_count": 29,
   "id": "1052288a",
   "metadata": {},
   "outputs": [],
   "source": [
    "#form data for tests\n",
    "x = train_set.loc[:, train_set.columns != 'class']\n",
    "y = train_set.iloc[:,0]\n",
    "\n",
    "x_train, x_test, y_train, y_test = train_test_split(x, y, test_size=0.1, random_state=0)"
   ]
  },
  {
   "cell_type": "code",
   "execution_count": 30,
   "id": "aa1b9e6c",
   "metadata": {},
   "outputs": [
    {
     "name": "stdout",
     "output_type": "stream",
     "text": [
      "[0.93548387 0.94108152 0.94269572 0.94027441 0.94108152]\n"
     ]
    }
   ],
   "source": [
    "#Calculate logistic regression with KFold cross validation\n",
    "\n",
    "kfold = KFold(n_splits=5, random_state=0, shuffle=True)\n",
    "lr_model = LogisticRegression(solver='liblinear', max_iter = 500)\n",
    "results = cross_val_score(lr_model, x, y, cv=kfold)\n",
    "\n",
    "print(results)"
   ]
  },
  {
   "cell_type": "code",
   "execution_count": 32,
   "id": "44d06b29",
   "metadata": {},
   "outputs": [
    {
     "name": "stdout",
     "output_type": "stream",
     "text": [
      "[0.87983871 0.87409201 0.87328491 0.8708636  0.85714286]\n"
     ]
    }
   ],
   "source": [
    "#Create a svm Classifier\n",
    "svm_model = svm.SVC(random_state=1, probability=True)\n",
    "\n",
    "svm_model.fit(x_train, y_train)\n",
    "\n",
    "results = cross_val_score(svm_model, x, y, cv=kfold)\n",
    "\n",
    "print(results)"
   ]
  },
  {
   "cell_type": "code",
   "execution_count": 33,
   "id": "1536d4af",
   "metadata": {},
   "outputs": [
    {
     "data": {
      "text/plain": [
       "array([0.93064516, 0.90637611, 0.85875706, 0.84100081, 0.68926554])"
      ]
     },
     "execution_count": 33,
     "metadata": {},
     "output_type": "execute_result"
    }
   ],
   "source": [
    "#Decision Tree Classifier\n",
    "\n",
    "dtc_model = DecisionTreeClassifier(max_depth=10, random_state=0)\n",
    "dtc_model.fit(x,y)\n",
    "cross_val_score(dtc_model, x, y, cv=5)"
   ]
  },
  {
   "cell_type": "code",
   "execution_count": 34,
   "id": "0b87797d",
   "metadata": {},
   "outputs": [
    {
     "data": {
      "text/plain": [
       "array([0.9266129 , 0.93139629, 0.86924939, 0.8724778 , 0.94027441])"
      ]
     },
     "execution_count": 34,
     "metadata": {},
     "output_type": "execute_result"
    }
   ],
   "source": [
    "#Random Forest Classifier\n",
    "\n",
    "rfc_model = RandomForestClassifier(max_depth=10, random_state=0)\n",
    "rfc_model.fit(x, y)\n",
    "cross_val_score(rfc_model, x, y, cv=5)"
   ]
  },
  {
   "cell_type": "code",
   "execution_count": 35,
   "id": "9a3cb458",
   "metadata": {},
   "outputs": [
    {
     "name": "stderr",
     "output_type": "stream",
     "text": [
      "c:\\Users\\ste13\\anaconda3\\lib\\site-packages\\lightgbm\\sklearn.py:736: UserWarning: 'verbose' argument is deprecated and will be removed in a future release of LightGBM. Pass 'log_evaluation()' callback via 'callbacks' argument instead.\n",
      "  _log_warning(\"'verbose' argument is deprecated and will be removed in a future release of LightGBM. \"\n"
     ]
    },
    {
     "name": "stdout",
     "output_type": "stream",
     "text": [
      "[20]\tvalid_0's binary_logloss: 0.103315\tvalid_1's binary_logloss: 0.0641211\n",
      "[40]\tvalid_0's binary_logloss: 0.0536018\tvalid_1's binary_logloss: 0.0182648\n",
      "[60]\tvalid_0's binary_logloss: 0.0382721\tvalid_1's binary_logloss: 0.00656769\n",
      "[80]\tvalid_0's binary_logloss: 0.0320046\tvalid_1's binary_logloss: 0.00309038\n",
      "[100]\tvalid_0's binary_logloss: 0.0296311\tvalid_1's binary_logloss: 0.00194925\n"
     ]
    },
    {
     "data": {
      "text/plain": [
       "LGBMClassifier(learning_rate=0.09, max_depth=-5, random_state=42)"
      ]
     },
     "execution_count": 35,
     "metadata": {},
     "output_type": "execute_result"
    }
   ],
   "source": [
    "#LightGBM\n",
    "\n",
    "lgb_model = lgb.LGBMClassifier(learning_rate=0.09,max_depth=-5,random_state=42)\n",
    "lgb_model.fit(x_train.to_numpy(),y_train.to_numpy(),eval_set=[(x_test.to_numpy(),y_test.to_numpy()),(x_train.to_numpy(),y_train.to_numpy())],verbose=20,eval_metric='logloss')"
   ]
  },
  {
   "cell_type": "code",
   "execution_count": 36,
   "id": "1c8cfcdc",
   "metadata": {},
   "outputs": [
    {
     "name": "stdout",
     "output_type": "stream",
     "text": [
      "LightGBM results:\n",
      "Training accuracy 0.9993\n",
      "Testing accuracy 0.9919\n"
     ]
    }
   ],
   "source": [
    "print('LightGBM results:')\n",
    "print(f'Training accuracy {lgb_model.score(x_train,y_train):.4f}')\n",
    "print(f'Testing accuracy {lgb_model.score(x_test,y_test):.4f}')"
   ]
  },
  {
   "cell_type": "code",
   "execution_count": 50,
   "id": "5b3de2ef",
   "metadata": {},
   "outputs": [
    {
     "data": {
      "text/plain": [
       "array([[9.99949992e-01, 5.00075338e-05],\n",
       "       [9.97681149e-01, 2.31885149e-03],\n",
       "       [9.99201399e-01, 7.98600817e-04],\n",
       "       [9.99482432e-01, 5.17568195e-04],\n",
       "       [9.85365698e-01, 1.46343019e-02],\n",
       "       [8.01761981e-01, 1.98238019e-01],\n",
       "       [9.94600280e-01, 5.39971952e-03],\n",
       "       [9.90632543e-01, 9.36745651e-03],\n",
       "       [9.95723766e-01, 4.27623387e-03],\n",
       "       [9.76591998e-01, 2.34080024e-02],\n",
       "       [9.99880731e-01, 1.19268876e-04],\n",
       "       [9.97690691e-01, 2.30930888e-03],\n",
       "       [9.97878337e-01, 2.12166337e-03],\n",
       "       [9.79338700e-01, 2.06612997e-02],\n",
       "       [8.18530941e-01, 1.81469059e-01],\n",
       "       [9.80414882e-01, 1.95851177e-02],\n",
       "       [9.97745989e-01, 2.25401063e-03],\n",
       "       [9.94173041e-01, 5.82695941e-03],\n",
       "       [5.82814979e-01, 4.17185021e-01],\n",
       "       [8.86931784e-01, 1.13068216e-01],\n",
       "       [8.86931784e-01, 1.13068216e-01],\n",
       "       [3.70032542e-01, 6.29967458e-01],\n",
       "       [4.30577036e-01, 5.69422964e-01],\n",
       "       [6.74787377e-01, 3.25212623e-01]])"
      ]
     },
     "execution_count": 50,
     "metadata": {},
     "output_type": "execute_result"
    }
   ],
   "source": [
    "lgb_model.predict_proba(df_test)\n"
   ]
  },
  {
   "cell_type": "code",
   "execution_count": null,
   "id": "c2f8bfb0",
   "metadata": {},
   "outputs": [],
   "source": []
  }
 ],
 "metadata": {
  "kernelspec": {
   "display_name": "base",
   "language": "python",
   "name": "python3"
  },
  "language_info": {
   "codemirror_mode": {
    "name": "ipython",
    "version": 3
   },
   "file_extension": ".py",
   "mimetype": "text/x-python",
   "name": "python",
   "nbconvert_exporter": "python",
   "pygments_lexer": "ipython3",
   "version": "3.9.13"
  },
  "vscode": {
   "interpreter": {
    "hash": "d997f875e43a0eadbed7c25aa6575c5c6bf4e09655b7ae816e13c2596481ac19"
   }
  }
 },
 "nbformat": 4,
 "nbformat_minor": 5
}
